{
 "cells": [
  {
   "cell_type": "markdown",
   "metadata": {},
   "source": [
    "# Using CiteMe in a notebook"
   ]
  },
  {
   "cell_type": "code",
   "execution_count": 1,
   "metadata": {},
   "outputs": [],
   "source": [
    "%load_ext autoreload\n",
    "%autoreload 2\n",
    "\n",
    "import citeme\n",
    "\n",
    "@citeme.article('my_handle', {\n",
    "    'author': 'Johnny Awesome',\n",
    "    'title': 'A short guide to being awesome',\n",
    "    'journal': 'Acme Journal on Cartoon Properties',\n",
    "    'year': '2017',\n",
    "    'volume': '4'\n",
    "})\n",
    "def my_func():\n",
    "    return True"
   ]
  },
  {
   "cell_type": "code",
   "execution_count": 2,
   "metadata": {
    "collapsed": true
   },
   "outputs": [],
   "source": [
    "# Calling the function will add the citation to the\n",
    "# library\n",
    "my_func()"
   ]
  },
  {
   "cell_type": "code",
   "execution_count": 3,
   "metadata": {},
   "outputs": [
    {
     "data": {
      "text/html": [
       "<html>\n",
       " <head>\n",
       " </head>\n",
       " <body>\n",
       "  <fieldset class=\"the_bibliography\">\n",
       "   <legend>\n",
       "    The Bibliography\n",
       "   </legend>\n",
       "   <ol class=\"references\">\n",
       "    <li>\n",
       "     <cite class=\"bib-entry\" id=\"my_handle\">\n",
       "      <span class=\"bib-entry-field bib-entry-author\">\n",
       "       Johnny Awesome\n",
       "      </span>\n",
       "      <span class=\"bib-entry-field bib-entry-title\">\n",
       "       A short guide to being awesome\n",
       "      </span>\n",
       "      <span class=\"bib-entry-field bib-entry-journal\">\n",
       "       Acme Journal on Cartoon Properties\n",
       "      </span>\n",
       "      <span class=\"bib-entry-field bib-entry-volume\">\n",
       "       4\n",
       "      </span>\n",
       "      <span class=\"bib-entry-field bib-entry-year\">\n",
       "       2017\n",
       "      </span>\n",
       "     </cite>\n",
       "    </li>\n",
       "   </ol>\n",
       "  </fieldset>\n",
       " </body>\n",
       "</html>"
      ],
      "text/plain": [
       "<IPython.core.display.HTML object>"
      ]
     },
     "metadata": {},
     "output_type": "display_data"
    }
   ],
   "source": [
    "citeme.display_bibliography()"
   ]
  },
  {
   "cell_type": "code",
   "execution_count": null,
   "metadata": {
    "collapsed": true
   },
   "outputs": [],
   "source": []
  }
 ],
 "metadata": {
  "kernelspec": {
   "display_name": "Python [default]",
   "language": "python",
   "name": "python3"
  },
  "language_info": {
   "codemirror_mode": {
    "name": "ipython",
    "version": 3
   },
   "file_extension": ".py",
   "mimetype": "text/x-python",
   "name": "python",
   "nbconvert_exporter": "python",
   "pygments_lexer": "ipython3",
   "version": "3.5.3"
  }
 },
 "nbformat": 4,
 "nbformat_minor": 2
}
